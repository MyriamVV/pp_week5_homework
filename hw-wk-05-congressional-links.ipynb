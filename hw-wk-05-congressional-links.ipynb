{
 "cells": [
  {
   "cell_type": "markdown",
   "id": "b44c1e9b",
   "metadata": {},
   "source": [
    "## Congressional Committees Links Scraper\n",
    "\n",
    "Write a scraper <a href=\"https://www.congress.gov/committees\">for this page</a> that gathers all the committee names and related links.\n",
    "\n",
    "In the near future, you will write code that follows those links and scrapes data from each link destination.\n",
    "\n"
   ]
  },
  {
   "cell_type": "code",
   "execution_count": 25,
   "id": "a35f1ef4",
   "metadata": {},
   "outputs": [],
   "source": [
    "from bs4 import BeautifulSoup\n",
    "import pandas as pd\n",
    "import requests \n"
   ]
  },
  {
   "cell_type": "code",
   "execution_count": 26,
   "id": "52fe1105",
   "metadata": {},
   "outputs": [
    {
     "data": {
      "text/plain": [
       "'https://www.congress.gov/committees'"
      ]
     },
     "execution_count": 26,
     "metadata": {},
     "output_type": "execute_result"
    }
   ],
   "source": [
    "url = \"https://www.congress.gov/committees\"\n",
    "url\n"
   ]
  },
  {
   "cell_type": "code",
   "execution_count": 27,
   "id": "f3e376f9",
   "metadata": {},
   "outputs": [
    {
     "data": {
      "text/plain": [
       "str"
      ]
     },
     "execution_count": 27,
     "metadata": {},
     "output_type": "execute_result"
    }
   ],
   "source": [
    "type(url)"
   ]
  },
  {
   "cell_type": "code",
   "execution_count": 28,
   "id": "6a000a19",
   "metadata": {},
   "outputs": [
    {
     "data": {
      "text/plain": [
       "200"
      ]
     },
     "execution_count": 28,
     "metadata": {},
     "output_type": "execute_result"
    }
   ],
   "source": [
    "response = requests.get(url)\n",
    "response.status_code"
   ]
  },
  {
   "cell_type": "code",
   "execution_count": 29,
   "id": "c752399d",
   "metadata": {},
   "outputs": [],
   "source": [
    "soup = BeautifulSoup(response.text,\"html.parser\")"
   ]
  },
  {
   "cell_type": "code",
   "execution_count": 30,
   "id": "5042f95b",
   "metadata": {},
   "outputs": [
    {
     "data": {
      "text/plain": [
       "bs4.BeautifulSoup"
      ]
     },
     "execution_count": 30,
     "metadata": {},
     "output_type": "execute_result"
    }
   ],
   "source": [
    "type(soup)"
   ]
  },
  {
   "cell_type": "code",
   "execution_count": 31,
   "id": "8cc58a38",
   "metadata": {},
   "outputs": [
    {
     "data": {
      "text/plain": [
       "[<ul class=\"plain margin7\">\n",
       " <li><a href=\"/committee/house-agriculture/hsag00\">Agriculture</a></li>\n",
       " <li><a href=\"/committee/house-appropriations/hsap00\">Appropriations</a></li>\n",
       " <li><a href=\"/committee/house-armed-services/hsas00\">Armed Services</a></li>\n",
       " <li><a href=\"/committee/house-budget/hsbu00\">Budget</a></li>\n",
       " <li><a href=\"/committee/house-education-and-labor/hsed00\">Education and Labor</a></li>\n",
       " <li><a href=\"/committee/house-energy-and-commerce/hsif00\">Energy and Commerce</a></li>\n",
       " <li><a href=\"/committee/house-ethics/hsso00\">Ethics</a></li>\n",
       " <li><a href=\"/committee/house-financial-services/hsba00\">Financial Services</a></li>\n",
       " <li><a href=\"/committee/house-foreign-affairs/hsfa00\">Foreign Affairs</a></li>\n",
       " <li><a href=\"/committee/house-homeland-security/hshm00\">Homeland Security</a></li>\n",
       " <li><a href=\"/committee/committee-on-house-administration/hsha00\">House Administration</a></li>\n",
       " <li><a href=\"/committee/house-judiciary/hsju00\">Judiciary</a></li>\n",
       " <li><a href=\"/committee/house-natural-resources/hsii00\">Natural Resources</a></li>\n",
       " <li><a href=\"/committee/house-oversight-and-reform/hsgo00\">Oversight and Reform</a></li>\n",
       " <li><a href=\"/committee/house-rules/hsru00\">Rules</a></li>\n",
       " <li><a href=\"/committee/house-science-space-and-technology/hssy00\">Science, Space, and Technology</a></li>\n",
       " <li><a href=\"/committee/house-small-business/hssm00\">Small Business</a></li>\n",
       " <li><a href=\"/committee/house-transportation-and-infrastructure/hspw00\">Transportation and Infrastructure</a></li>\n",
       " <li><a href=\"/committee/house-veterans-affairs/hsvr00\">Veterans' Affairs</a></li>\n",
       " <li><a href=\"/committee/house-ways-and-means/hswm00\">Ways and Means</a></li>\n",
       " </ul>,\n",
       " <ul class=\"plain margin7\">\n",
       " <li><a href=\"/committee/senate-agriculture-nutrition-and-forestry/ssaf00\">Agriculture, Nutrition, and Forestry</a></li>\n",
       " <li><a href=\"/committee/senate-appropriations/ssap00\">Appropriations</a></li>\n",
       " <li><a href=\"/committee/senate-armed-services/ssas00\">Armed Services</a></li>\n",
       " <li><a href=\"/committee/senate-banking-housing-and-urban-affairs/ssbk00\">Banking, Housing, and Urban Affairs</a></li>\n",
       " <li><a href=\"/committee/senate-budget/ssbu00\">Budget</a></li>\n",
       " <li><a href=\"/committee/senate-commerce-science-and-transportation/sscm00\">Commerce, Science, and Transportation</a></li>\n",
       " <li><a href=\"/committee/senate-energy-and-natural-resources/sseg00\">Energy and Natural Resources</a></li>\n",
       " <li><a href=\"/committee/senate-environment-and-public-works/ssev00\">Environment and Public Works</a></li>\n",
       " <li><a href=\"/committee/senate-finance/ssfi00\">Finance</a></li>\n",
       " <li><a href=\"/committee/senate-foreign-relations/ssfr00\">Foreign Relations</a></li>\n",
       " <li><a href=\"/committee/senate-health-education-labor-and-pensions/sshr00\">Health, Education, Labor, and Pensions</a></li>\n",
       " <li><a href=\"/committee/senate-homeland-security-and-governmental-affairs/ssga00\">Homeland Security and Governmental Affairs</a></li>\n",
       " <li><a href=\"/committee/senate-judiciary/ssju00\">Judiciary</a></li>\n",
       " <li><a href=\"/committee/senate-rules-and-administration/ssra00\">Rules and Administration</a></li>\n",
       " <li><a href=\"/committee/senate-small-business-and-entrepreneurship/sssb00\">Small Business and Entrepreneurship</a></li>\n",
       " <li><a href=\"/committee/senate-veterans-affairs/ssva00\">Veterans' Affairs</a></li>\n",
       " </ul>,\n",
       " <ul class=\"plain margin7\">\n",
       " <li><a href=\"/committee/house-intelligence-permanent-select/hlig00\">House Permanent Select Committee on Intelligence</a></li>\n",
       " <li><a href=\"/committee/house-select-committee-on-economic-disparity-and-fairness-in-growth/hlef00\">Select Committee on Economic Disparity and Fairness in Growth</a></li>\n",
       " <li><a href=\"/committee/house-select-committee-on-the-climate-crisis/hlcn00\">Select Committee on the Climate Crisis</a></li>\n",
       " <li><a href=\"/committee/house-select-committee-on-the-modernization-of-congress/hlmh00\">Select Committee on the Modernization of Congress</a></li>\n",
       " <li><a href=\"/committee/house-select-committee-to-investigate-the-january-6th-attack-on-the-united-states-capitol/hlij00\">Select Committee to Investigate the January 6th Attack on the United States Capitol</a></li>\n",
       " </ul>,\n",
       " <ul class=\"plain margin7\">\n",
       " <li><a href=\"/committee/senate-aging-special/spag00\">Aging (Special)</a></li>\n",
       " <li><a href=\"/committee/senate-caucus-on-international-narcotics-control/scnc00\">Caucus on International Narcotics Control</a></li>\n",
       " <li><a href=\"/committee/senate-ethics-select/slet00\">Ethics (Select)</a></li>\n",
       " <li><a href=\"/committee/senate-indian-affairs/slia00\">Indian Affairs</a></li>\n",
       " <li><a href=\"/committee/senate-intelligence-select/slin00\">Intelligence (Select)</a></li>\n",
       " </ul>,\n",
       " <ul class=\"plain margin7\">\n",
       " <li><a href=\"/committee/joint-committee-on-printing/jspr00\">Joint Committee on Printing</a></li>\n",
       " <li><a href=\"/committee/joint-committee-on-taxation/jstx00\">Joint Committee on Taxation</a></li>\n",
       " <li><a href=\"/committee/joint-committee-on-the-library/jslc00\">Joint Committee on the Library</a></li>\n",
       " <li><a href=\"/committee/joint-economic-committee/jsec00\">Joint Economic Committee</a></li>\n",
       " </ul>,\n",
       " <ul class=\"plain margin7\">\n",
       " <li><a href=\"/committee/the-helsinki-commission/jcse00\">Commission on Security and Cooperation in Europe</a> (U.S. Helsinki Commission)</li>\n",
       " <li><a href=\"/committee/congressional-executive-commission-on-china/jcpk00\">Congressional-Executive Commission on China</a></li>\n",
       " <li><a href=\"http://tlhrc.house.gov/\" target=\"_blank\">Tom Lantos Human Rights Commission</a></li>\n",
       " </ul>,\n",
       " <ul class=\"plain margin7\">\n",
       " <li><a href=\"/committee/congressional-oversight-commission/jcov00\">Congressional Oversight Commission</a></li>\n",
       " <li><a href=\"/committee/senate-commission-on-art/scoa00\">Senate Commission on Art</a></li>\n",
       " </ul>]"
      ]
     },
     "execution_count": 31,
     "metadata": {},
     "output_type": "execute_result"
    }
   ],
   "source": [
    "committees = soup.find_all(\"ul\", class_=\"plain margin7\")\n",
    "committees\n",
    "\n",
    "#committees = soup.find(\"div\", class_=\"overview\")\n",
    "#committees"
   ]
  },
  {
   "cell_type": "code",
   "execution_count": 32,
   "id": "e5000617",
   "metadata": {},
   "outputs": [
    {
     "data": {
      "text/plain": [
       "7"
      ]
     },
     "execution_count": 32,
     "metadata": {},
     "output_type": "execute_result"
    }
   ],
   "source": [
    "len(committees)"
   ]
  },
  {
   "cell_type": "code",
   "execution_count": 33,
   "id": "3213dd25",
   "metadata": {},
   "outputs": [
    {
     "data": {
      "text/plain": [
       "[<ul class=\"plain margin7\">\n",
       " <li><a href=\"/committee/house-agriculture/hsag00\">Agriculture</a></li>\n",
       " <li><a href=\"/committee/house-appropriations/hsap00\">Appropriations</a></li>\n",
       " <li><a href=\"/committee/house-armed-services/hsas00\">Armed Services</a></li>\n",
       " <li><a href=\"/committee/house-budget/hsbu00\">Budget</a></li>\n",
       " <li><a href=\"/committee/house-education-and-labor/hsed00\">Education and Labor</a></li>\n",
       " <li><a href=\"/committee/house-energy-and-commerce/hsif00\">Energy and Commerce</a></li>\n",
       " <li><a href=\"/committee/house-ethics/hsso00\">Ethics</a></li>\n",
       " <li><a href=\"/committee/house-financial-services/hsba00\">Financial Services</a></li>\n",
       " <li><a href=\"/committee/house-foreign-affairs/hsfa00\">Foreign Affairs</a></li>\n",
       " <li><a href=\"/committee/house-homeland-security/hshm00\">Homeland Security</a></li>\n",
       " <li><a href=\"/committee/committee-on-house-administration/hsha00\">House Administration</a></li>\n",
       " <li><a href=\"/committee/house-judiciary/hsju00\">Judiciary</a></li>\n",
       " <li><a href=\"/committee/house-natural-resources/hsii00\">Natural Resources</a></li>\n",
       " <li><a href=\"/committee/house-oversight-and-reform/hsgo00\">Oversight and Reform</a></li>\n",
       " <li><a href=\"/committee/house-rules/hsru00\">Rules</a></li>\n",
       " <li><a href=\"/committee/house-science-space-and-technology/hssy00\">Science, Space, and Technology</a></li>\n",
       " <li><a href=\"/committee/house-small-business/hssm00\">Small Business</a></li>\n",
       " <li><a href=\"/committee/house-transportation-and-infrastructure/hspw00\">Transportation and Infrastructure</a></li>\n",
       " <li><a href=\"/committee/house-veterans-affairs/hsvr00\">Veterans' Affairs</a></li>\n",
       " <li><a href=\"/committee/house-ways-and-means/hswm00\">Ways and Means</a></li>\n",
       " </ul>,\n",
       " <ul class=\"plain margin7\">\n",
       " <li><a href=\"/committee/senate-agriculture-nutrition-and-forestry/ssaf00\">Agriculture, Nutrition, and Forestry</a></li>\n",
       " <li><a href=\"/committee/senate-appropriations/ssap00\">Appropriations</a></li>\n",
       " <li><a href=\"/committee/senate-armed-services/ssas00\">Armed Services</a></li>\n",
       " <li><a href=\"/committee/senate-banking-housing-and-urban-affairs/ssbk00\">Banking, Housing, and Urban Affairs</a></li>\n",
       " <li><a href=\"/committee/senate-budget/ssbu00\">Budget</a></li>\n",
       " <li><a href=\"/committee/senate-commerce-science-and-transportation/sscm00\">Commerce, Science, and Transportation</a></li>\n",
       " <li><a href=\"/committee/senate-energy-and-natural-resources/sseg00\">Energy and Natural Resources</a></li>\n",
       " <li><a href=\"/committee/senate-environment-and-public-works/ssev00\">Environment and Public Works</a></li>\n",
       " <li><a href=\"/committee/senate-finance/ssfi00\">Finance</a></li>\n",
       " <li><a href=\"/committee/senate-foreign-relations/ssfr00\">Foreign Relations</a></li>\n",
       " <li><a href=\"/committee/senate-health-education-labor-and-pensions/sshr00\">Health, Education, Labor, and Pensions</a></li>\n",
       " <li><a href=\"/committee/senate-homeland-security-and-governmental-affairs/ssga00\">Homeland Security and Governmental Affairs</a></li>\n",
       " <li><a href=\"/committee/senate-judiciary/ssju00\">Judiciary</a></li>\n",
       " <li><a href=\"/committee/senate-rules-and-administration/ssra00\">Rules and Administration</a></li>\n",
       " <li><a href=\"/committee/senate-small-business-and-entrepreneurship/sssb00\">Small Business and Entrepreneurship</a></li>\n",
       " <li><a href=\"/committee/senate-veterans-affairs/ssva00\">Veterans' Affairs</a></li>\n",
       " </ul>]"
      ]
     },
     "execution_count": 33,
     "metadata": {},
     "output_type": "execute_result"
    }
   ],
   "source": [
    "committees2 = committees[0:2]\n",
    "committees2"
   ]
  },
  {
   "cell_type": "code",
   "execution_count": 34,
   "id": "c9bb666b",
   "metadata": {},
   "outputs": [
    {
     "name": "stdout",
     "output_type": "stream",
     "text": [
      "[<a href=\"/committee/house-agriculture/hsag00\">Agriculture</a>, <a href=\"/committee/house-appropriations/hsap00\">Appropriations</a>, <a href=\"/committee/house-armed-services/hsas00\">Armed Services</a>, <a href=\"/committee/house-budget/hsbu00\">Budget</a>, <a href=\"/committee/house-education-and-labor/hsed00\">Education and Labor</a>, <a href=\"/committee/house-energy-and-commerce/hsif00\">Energy and Commerce</a>, <a href=\"/committee/house-ethics/hsso00\">Ethics</a>, <a href=\"/committee/house-financial-services/hsba00\">Financial Services</a>, <a href=\"/committee/house-foreign-affairs/hsfa00\">Foreign Affairs</a>, <a href=\"/committee/house-homeland-security/hshm00\">Homeland Security</a>, <a href=\"/committee/committee-on-house-administration/hsha00\">House Administration</a>, <a href=\"/committee/house-judiciary/hsju00\">Judiciary</a>, <a href=\"/committee/house-natural-resources/hsii00\">Natural Resources</a>, <a href=\"/committee/house-oversight-and-reform/hsgo00\">Oversight and Reform</a>, <a href=\"/committee/house-rules/hsru00\">Rules</a>, <a href=\"/committee/house-science-space-and-technology/hssy00\">Science, Space, and Technology</a>, <a href=\"/committee/house-small-business/hssm00\">Small Business</a>, <a href=\"/committee/house-transportation-and-infrastructure/hspw00\">Transportation and Infrastructure</a>, <a href=\"/committee/house-veterans-affairs/hsvr00\">Veterans' Affairs</a>, <a href=\"/committee/house-ways-and-means/hswm00\">Ways and Means</a>, <a href=\"/committee/senate-agriculture-nutrition-and-forestry/ssaf00\">Agriculture, Nutrition, and Forestry</a>, <a href=\"/committee/senate-appropriations/ssap00\">Appropriations</a>, <a href=\"/committee/senate-armed-services/ssas00\">Armed Services</a>, <a href=\"/committee/senate-banking-housing-and-urban-affairs/ssbk00\">Banking, Housing, and Urban Affairs</a>, <a href=\"/committee/senate-budget/ssbu00\">Budget</a>, <a href=\"/committee/senate-commerce-science-and-transportation/sscm00\">Commerce, Science, and Transportation</a>, <a href=\"/committee/senate-energy-and-natural-resources/sseg00\">Energy and Natural Resources</a>, <a href=\"/committee/senate-environment-and-public-works/ssev00\">Environment and Public Works</a>, <a href=\"/committee/senate-finance/ssfi00\">Finance</a>, <a href=\"/committee/senate-foreign-relations/ssfr00\">Foreign Relations</a>, <a href=\"/committee/senate-health-education-labor-and-pensions/sshr00\">Health, Education, Labor, and Pensions</a>, <a href=\"/committee/senate-homeland-security-and-governmental-affairs/ssga00\">Homeland Security and Governmental Affairs</a>, <a href=\"/committee/senate-judiciary/ssju00\">Judiciary</a>, <a href=\"/committee/senate-rules-and-administration/ssra00\">Rules and Administration</a>, <a href=\"/committee/senate-small-business-and-entrepreneurship/sssb00\">Small Business and Entrepreneurship</a>, <a href=\"/committee/senate-veterans-affairs/ssva00\">Veterans' Affairs</a>]\n"
     ]
    }
   ],
   "source": [
    "# This is not an iterable list. Need to make it into one list\n",
    "\n",
    "committees3 = []\n",
    "for comm in committees2:\n",
    "    committees3.append(comm.find_all(\"a\"))\n",
    "\n",
    "# Take these 2 lists and store them in a dif list\n",
    "committees4 = committees3[0] + committees3[1]\n",
    "\n",
    "print(committees4)\n",
    "\n"
   ]
  },
  {
   "cell_type": "code",
   "execution_count": 42,
   "id": "93e97950",
   "metadata": {},
   "outputs": [],
   "source": [
    "committees_text = []\n",
    "for comm in committees4:\n",
    "    committees_text.append(comm.get_text())\n",
    "    "
   ]
  },
  {
   "cell_type": "code",
   "execution_count": 43,
   "id": "5ffaf254",
   "metadata": {},
   "outputs": [],
   "source": [
    "committees_links = []\n",
    "for comm in committees4:\n",
    "    committees_links.append(comm[\"href\"])"
   ]
  },
  {
   "cell_type": "code",
   "execution_count": 37,
   "id": "5a24427a",
   "metadata": {},
   "outputs": [
    {
     "data": {
      "text/plain": [
       "['/committee/house-agriculture/hsag00',\n",
       " '/committee/house-appropriations/hsap00',\n",
       " '/committee/house-armed-services/hsas00',\n",
       " '/committee/house-budget/hsbu00',\n",
       " '/committee/house-education-and-labor/hsed00',\n",
       " '/committee/house-energy-and-commerce/hsif00',\n",
       " '/committee/house-ethics/hsso00',\n",
       " '/committee/house-financial-services/hsba00',\n",
       " '/committee/house-foreign-affairs/hsfa00',\n",
       " '/committee/house-homeland-security/hshm00',\n",
       " '/committee/committee-on-house-administration/hsha00',\n",
       " '/committee/house-judiciary/hsju00',\n",
       " '/committee/house-natural-resources/hsii00',\n",
       " '/committee/house-oversight-and-reform/hsgo00',\n",
       " '/committee/house-rules/hsru00',\n",
       " '/committee/house-science-space-and-technology/hssy00',\n",
       " '/committee/house-small-business/hssm00',\n",
       " '/committee/house-transportation-and-infrastructure/hspw00',\n",
       " '/committee/house-veterans-affairs/hsvr00',\n",
       " '/committee/house-ways-and-means/hswm00',\n",
       " '/committee/senate-agriculture-nutrition-and-forestry/ssaf00',\n",
       " '/committee/senate-appropriations/ssap00',\n",
       " '/committee/senate-armed-services/ssas00',\n",
       " '/committee/senate-banking-housing-and-urban-affairs/ssbk00',\n",
       " '/committee/senate-budget/ssbu00',\n",
       " '/committee/senate-commerce-science-and-transportation/sscm00',\n",
       " '/committee/senate-energy-and-natural-resources/sseg00',\n",
       " '/committee/senate-environment-and-public-works/ssev00',\n",
       " '/committee/senate-finance/ssfi00',\n",
       " '/committee/senate-foreign-relations/ssfr00',\n",
       " '/committee/senate-health-education-labor-and-pensions/sshr00',\n",
       " '/committee/senate-homeland-security-and-governmental-affairs/ssga00',\n",
       " '/committee/senate-judiciary/ssju00',\n",
       " '/committee/senate-rules-and-administration/ssra00',\n",
       " '/committee/senate-small-business-and-entrepreneurship/sssb00',\n",
       " '/committee/senate-veterans-affairs/ssva00']"
      ]
     },
     "execution_count": 37,
     "metadata": {},
     "output_type": "execute_result"
    }
   ],
   "source": [
    "# Save the committees in a list\n",
    "committees_links = []\n",
    "for comm in committees4:\n",
    "    committees_links.append(comm[\"href\"])\n",
    "\n",
    "committees_links   "
   ]
  },
  {
   "cell_type": "code",
   "execution_count": 38,
   "id": "e1f9d779",
   "metadata": {},
   "outputs": [
    {
     "data": {
      "text/plain": [
       "['https://www.congress.gov/committee/house-agriculture/hsag00',\n",
       " 'https://www.congress.gov/committee/house-appropriations/hsap00',\n",
       " 'https://www.congress.gov/committee/house-armed-services/hsas00',\n",
       " 'https://www.congress.gov/committee/house-budget/hsbu00',\n",
       " 'https://www.congress.gov/committee/house-education-and-labor/hsed00',\n",
       " 'https://www.congress.gov/committee/house-energy-and-commerce/hsif00',\n",
       " 'https://www.congress.gov/committee/house-ethics/hsso00',\n",
       " 'https://www.congress.gov/committee/house-financial-services/hsba00',\n",
       " 'https://www.congress.gov/committee/house-foreign-affairs/hsfa00',\n",
       " 'https://www.congress.gov/committee/house-homeland-security/hshm00',\n",
       " 'https://www.congress.gov/committeehttps://www.congress.gov/committee-on-house-administration/hsha00',\n",
       " 'https://www.congress.gov/committee/house-judiciary/hsju00',\n",
       " 'https://www.congress.gov/committee/house-natural-resources/hsii00',\n",
       " 'https://www.congress.gov/committee/house-oversight-and-reform/hsgo00',\n",
       " 'https://www.congress.gov/committee/house-rules/hsru00',\n",
       " 'https://www.congress.gov/committee/house-science-space-and-technology/hssy00',\n",
       " 'https://www.congress.gov/committee/house-small-business/hssm00',\n",
       " 'https://www.congress.gov/committee/house-transportation-and-infrastructure/hspw00',\n",
       " 'https://www.congress.gov/committee/house-veterans-affairs/hsvr00',\n",
       " 'https://www.congress.gov/committee/house-ways-and-means/hswm00',\n",
       " 'https://www.congress.gov/committee/senate-agriculture-nutrition-and-forestry/ssaf00',\n",
       " 'https://www.congress.gov/committee/senate-appropriations/ssap00',\n",
       " 'https://www.congress.gov/committee/senate-armed-services/ssas00',\n",
       " 'https://www.congress.gov/committee/senate-banking-housing-and-urban-affairs/ssbk00',\n",
       " 'https://www.congress.gov/committee/senate-budget/ssbu00',\n",
       " 'https://www.congress.gov/committee/senate-commerce-science-and-transportation/sscm00',\n",
       " 'https://www.congress.gov/committee/senate-energy-and-natural-resources/sseg00',\n",
       " 'https://www.congress.gov/committee/senate-environment-and-public-works/ssev00',\n",
       " 'https://www.congress.gov/committee/senate-finance/ssfi00',\n",
       " 'https://www.congress.gov/committee/senate-foreign-relations/ssfr00',\n",
       " 'https://www.congress.gov/committee/senate-health-education-labor-and-pensions/sshr00',\n",
       " 'https://www.congress.gov/committee/senate-homeland-security-and-governmental-affairs/ssga00',\n",
       " 'https://www.congress.gov/committee/senate-judiciary/ssju00',\n",
       " 'https://www.congress.gov/committee/senate-rules-and-administration/ssra00',\n",
       " 'https://www.congress.gov/committee/senate-small-business-and-entrepreneurship/sssb00',\n",
       " 'https://www.congress.gov/committee/senate-veterans-affairs/ssva00']"
      ]
     },
     "execution_count": 38,
     "metadata": {},
     "output_type": "execute_result"
    }
   ],
   "source": [
    "# New for loop, to add the base URL to it\n",
    "\n",
    "committees_links_full = []\n",
    "\n",
    "for link in committees_links:\n",
    "    committees_links_full.append(link.replace(\"/com\", \"https://www.congress.gov/com\"))\n",
    "\n",
    "committees_links_full\n",
    "    "
   ]
  },
  {
   "cell_type": "code",
   "execution_count": 44,
   "id": "268073fe",
   "metadata": {},
   "outputs": [],
   "source": [
    "# Why didn't this work?\n",
    "df = pd.DataFrame(list(zip(committees_text,committees_links_full)),\n",
    "                  columns = [\"committee\", \"website\"])              \n",
    "                  "
   ]
  },
  {
   "cell_type": "code",
   "execution_count": 45,
   "id": "b34136d9",
   "metadata": {},
   "outputs": [
    {
     "data": {
      "text/html": [
       "<div>\n",
       "<style scoped>\n",
       "    .dataframe tbody tr th:only-of-type {\n",
       "        vertical-align: middle;\n",
       "    }\n",
       "\n",
       "    .dataframe tbody tr th {\n",
       "        vertical-align: top;\n",
       "    }\n",
       "\n",
       "    .dataframe thead th {\n",
       "        text-align: right;\n",
       "    }\n",
       "</style>\n",
       "<table border=\"1\" class=\"dataframe\">\n",
       "  <thead>\n",
       "    <tr style=\"text-align: right;\">\n",
       "      <th></th>\n",
       "      <th>committee</th>\n",
       "      <th>website</th>\n",
       "    </tr>\n",
       "  </thead>\n",
       "  <tbody>\n",
       "    <tr>\n",
       "      <th>0</th>\n",
       "      <td>Agriculture</td>\n",
       "      <td>https://www.congress.gov/committee/house-agric...</td>\n",
       "    </tr>\n",
       "    <tr>\n",
       "      <th>1</th>\n",
       "      <td>Appropriations</td>\n",
       "      <td>https://www.congress.gov/committee/house-appro...</td>\n",
       "    </tr>\n",
       "    <tr>\n",
       "      <th>2</th>\n",
       "      <td>Armed Services</td>\n",
       "      <td>https://www.congress.gov/committee/house-armed...</td>\n",
       "    </tr>\n",
       "    <tr>\n",
       "      <th>3</th>\n",
       "      <td>Budget</td>\n",
       "      <td>https://www.congress.gov/committee/house-budge...</td>\n",
       "    </tr>\n",
       "    <tr>\n",
       "      <th>4</th>\n",
       "      <td>Education and Labor</td>\n",
       "      <td>https://www.congress.gov/committee/house-educa...</td>\n",
       "    </tr>\n",
       "    <tr>\n",
       "      <th>5</th>\n",
       "      <td>Energy and Commerce</td>\n",
       "      <td>https://www.congress.gov/committee/house-energ...</td>\n",
       "    </tr>\n",
       "    <tr>\n",
       "      <th>6</th>\n",
       "      <td>Ethics</td>\n",
       "      <td>https://www.congress.gov/committee/house-ethic...</td>\n",
       "    </tr>\n",
       "    <tr>\n",
       "      <th>7</th>\n",
       "      <td>Financial Services</td>\n",
       "      <td>https://www.congress.gov/committee/house-finan...</td>\n",
       "    </tr>\n",
       "    <tr>\n",
       "      <th>8</th>\n",
       "      <td>Foreign Affairs</td>\n",
       "      <td>https://www.congress.gov/committee/house-forei...</td>\n",
       "    </tr>\n",
       "    <tr>\n",
       "      <th>9</th>\n",
       "      <td>Homeland Security</td>\n",
       "      <td>https://www.congress.gov/committee/house-homel...</td>\n",
       "    </tr>\n",
       "    <tr>\n",
       "      <th>10</th>\n",
       "      <td>House Administration</td>\n",
       "      <td>https://www.congress.gov/committeehttps://www....</td>\n",
       "    </tr>\n",
       "    <tr>\n",
       "      <th>11</th>\n",
       "      <td>Judiciary</td>\n",
       "      <td>https://www.congress.gov/committee/house-judic...</td>\n",
       "    </tr>\n",
       "    <tr>\n",
       "      <th>12</th>\n",
       "      <td>Natural Resources</td>\n",
       "      <td>https://www.congress.gov/committee/house-natur...</td>\n",
       "    </tr>\n",
       "    <tr>\n",
       "      <th>13</th>\n",
       "      <td>Oversight and Reform</td>\n",
       "      <td>https://www.congress.gov/committee/house-overs...</td>\n",
       "    </tr>\n",
       "    <tr>\n",
       "      <th>14</th>\n",
       "      <td>Rules</td>\n",
       "      <td>https://www.congress.gov/committee/house-rules...</td>\n",
       "    </tr>\n",
       "    <tr>\n",
       "      <th>15</th>\n",
       "      <td>Science, Space, and Technology</td>\n",
       "      <td>https://www.congress.gov/committee/house-scien...</td>\n",
       "    </tr>\n",
       "    <tr>\n",
       "      <th>16</th>\n",
       "      <td>Small Business</td>\n",
       "      <td>https://www.congress.gov/committee/house-small...</td>\n",
       "    </tr>\n",
       "    <tr>\n",
       "      <th>17</th>\n",
       "      <td>Transportation and Infrastructure</td>\n",
       "      <td>https://www.congress.gov/committee/house-trans...</td>\n",
       "    </tr>\n",
       "    <tr>\n",
       "      <th>18</th>\n",
       "      <td>Veterans' Affairs</td>\n",
       "      <td>https://www.congress.gov/committee/house-veter...</td>\n",
       "    </tr>\n",
       "    <tr>\n",
       "      <th>19</th>\n",
       "      <td>Ways and Means</td>\n",
       "      <td>https://www.congress.gov/committee/house-ways-...</td>\n",
       "    </tr>\n",
       "    <tr>\n",
       "      <th>20</th>\n",
       "      <td>Agriculture, Nutrition, and Forestry</td>\n",
       "      <td>https://www.congress.gov/committee/senate-agri...</td>\n",
       "    </tr>\n",
       "    <tr>\n",
       "      <th>21</th>\n",
       "      <td>Appropriations</td>\n",
       "      <td>https://www.congress.gov/committee/senate-appr...</td>\n",
       "    </tr>\n",
       "    <tr>\n",
       "      <th>22</th>\n",
       "      <td>Armed Services</td>\n",
       "      <td>https://www.congress.gov/committee/senate-arme...</td>\n",
       "    </tr>\n",
       "    <tr>\n",
       "      <th>23</th>\n",
       "      <td>Banking, Housing, and Urban Affairs</td>\n",
       "      <td>https://www.congress.gov/committee/senate-bank...</td>\n",
       "    </tr>\n",
       "    <tr>\n",
       "      <th>24</th>\n",
       "      <td>Budget</td>\n",
       "      <td>https://www.congress.gov/committee/senate-budg...</td>\n",
       "    </tr>\n",
       "    <tr>\n",
       "      <th>25</th>\n",
       "      <td>Commerce, Science, and Transportation</td>\n",
       "      <td>https://www.congress.gov/committee/senate-comm...</td>\n",
       "    </tr>\n",
       "    <tr>\n",
       "      <th>26</th>\n",
       "      <td>Energy and Natural Resources</td>\n",
       "      <td>https://www.congress.gov/committee/senate-ener...</td>\n",
       "    </tr>\n",
       "    <tr>\n",
       "      <th>27</th>\n",
       "      <td>Environment and Public Works</td>\n",
       "      <td>https://www.congress.gov/committee/senate-envi...</td>\n",
       "    </tr>\n",
       "    <tr>\n",
       "      <th>28</th>\n",
       "      <td>Finance</td>\n",
       "      <td>https://www.congress.gov/committee/senate-fina...</td>\n",
       "    </tr>\n",
       "    <tr>\n",
       "      <th>29</th>\n",
       "      <td>Foreign Relations</td>\n",
       "      <td>https://www.congress.gov/committee/senate-fore...</td>\n",
       "    </tr>\n",
       "    <tr>\n",
       "      <th>30</th>\n",
       "      <td>Health, Education, Labor, and Pensions</td>\n",
       "      <td>https://www.congress.gov/committee/senate-heal...</td>\n",
       "    </tr>\n",
       "    <tr>\n",
       "      <th>31</th>\n",
       "      <td>Homeland Security and Governmental Affairs</td>\n",
       "      <td>https://www.congress.gov/committee/senate-home...</td>\n",
       "    </tr>\n",
       "    <tr>\n",
       "      <th>32</th>\n",
       "      <td>Judiciary</td>\n",
       "      <td>https://www.congress.gov/committee/senate-judi...</td>\n",
       "    </tr>\n",
       "    <tr>\n",
       "      <th>33</th>\n",
       "      <td>Rules and Administration</td>\n",
       "      <td>https://www.congress.gov/committee/senate-rule...</td>\n",
       "    </tr>\n",
       "    <tr>\n",
       "      <th>34</th>\n",
       "      <td>Small Business and Entrepreneurship</td>\n",
       "      <td>https://www.congress.gov/committee/senate-smal...</td>\n",
       "    </tr>\n",
       "    <tr>\n",
       "      <th>35</th>\n",
       "      <td>Veterans' Affairs</td>\n",
       "      <td>https://www.congress.gov/committee/senate-vete...</td>\n",
       "    </tr>\n",
       "  </tbody>\n",
       "</table>\n",
       "</div>"
      ],
      "text/plain": [
       "                                     committee  \\\n",
       "0                                  Agriculture   \n",
       "1                               Appropriations   \n",
       "2                               Armed Services   \n",
       "3                                       Budget   \n",
       "4                          Education and Labor   \n",
       "5                          Energy and Commerce   \n",
       "6                                       Ethics   \n",
       "7                           Financial Services   \n",
       "8                              Foreign Affairs   \n",
       "9                            Homeland Security   \n",
       "10                        House Administration   \n",
       "11                                   Judiciary   \n",
       "12                           Natural Resources   \n",
       "13                        Oversight and Reform   \n",
       "14                                       Rules   \n",
       "15              Science, Space, and Technology   \n",
       "16                              Small Business   \n",
       "17           Transportation and Infrastructure   \n",
       "18                           Veterans' Affairs   \n",
       "19                              Ways and Means   \n",
       "20        Agriculture, Nutrition, and Forestry   \n",
       "21                              Appropriations   \n",
       "22                              Armed Services   \n",
       "23         Banking, Housing, and Urban Affairs   \n",
       "24                                      Budget   \n",
       "25       Commerce, Science, and Transportation   \n",
       "26                Energy and Natural Resources   \n",
       "27                Environment and Public Works   \n",
       "28                                     Finance   \n",
       "29                           Foreign Relations   \n",
       "30      Health, Education, Labor, and Pensions   \n",
       "31  Homeland Security and Governmental Affairs   \n",
       "32                                   Judiciary   \n",
       "33                    Rules and Administration   \n",
       "34         Small Business and Entrepreneurship   \n",
       "35                           Veterans' Affairs   \n",
       "\n",
       "                                              website  \n",
       "0   https://www.congress.gov/committee/house-agric...  \n",
       "1   https://www.congress.gov/committee/house-appro...  \n",
       "2   https://www.congress.gov/committee/house-armed...  \n",
       "3   https://www.congress.gov/committee/house-budge...  \n",
       "4   https://www.congress.gov/committee/house-educa...  \n",
       "5   https://www.congress.gov/committee/house-energ...  \n",
       "6   https://www.congress.gov/committee/house-ethic...  \n",
       "7   https://www.congress.gov/committee/house-finan...  \n",
       "8   https://www.congress.gov/committee/house-forei...  \n",
       "9   https://www.congress.gov/committee/house-homel...  \n",
       "10  https://www.congress.gov/committeehttps://www....  \n",
       "11  https://www.congress.gov/committee/house-judic...  \n",
       "12  https://www.congress.gov/committee/house-natur...  \n",
       "13  https://www.congress.gov/committee/house-overs...  \n",
       "14  https://www.congress.gov/committee/house-rules...  \n",
       "15  https://www.congress.gov/committee/house-scien...  \n",
       "16  https://www.congress.gov/committee/house-small...  \n",
       "17  https://www.congress.gov/committee/house-trans...  \n",
       "18  https://www.congress.gov/committee/house-veter...  \n",
       "19  https://www.congress.gov/committee/house-ways-...  \n",
       "20  https://www.congress.gov/committee/senate-agri...  \n",
       "21  https://www.congress.gov/committee/senate-appr...  \n",
       "22  https://www.congress.gov/committee/senate-arme...  \n",
       "23  https://www.congress.gov/committee/senate-bank...  \n",
       "24  https://www.congress.gov/committee/senate-budg...  \n",
       "25  https://www.congress.gov/committee/senate-comm...  \n",
       "26  https://www.congress.gov/committee/senate-ener...  \n",
       "27  https://www.congress.gov/committee/senate-envi...  \n",
       "28  https://www.congress.gov/committee/senate-fina...  \n",
       "29  https://www.congress.gov/committee/senate-fore...  \n",
       "30  https://www.congress.gov/committee/senate-heal...  \n",
       "31  https://www.congress.gov/committee/senate-home...  \n",
       "32  https://www.congress.gov/committee/senate-judi...  \n",
       "33  https://www.congress.gov/committee/senate-rule...  \n",
       "34  https://www.congress.gov/committee/senate-smal...  \n",
       "35  https://www.congress.gov/committee/senate-vete...  "
      ]
     },
     "execution_count": 45,
     "metadata": {},
     "output_type": "execute_result"
    }
   ],
   "source": [
    "df"
   ]
  },
  {
   "cell_type": "code",
   "execution_count": 24,
   "id": "88a3cbe8",
   "metadata": {},
   "outputs": [
    {
     "data": {
      "text/plain": [
       "[]"
      ]
     },
     "execution_count": 24,
     "metadata": {},
     "output_type": "execute_result"
    }
   ],
   "source": [
    "## With a for loop\n",
    "\n",
    "committees_dic = []\n",
    "\n",
    "for (name,link) in zip(committees_text,committees_links_full):\n",
    "    committees_dic.append({\n",
    "        \"committee\":name,\n",
    "        \"website\":link})\n",
    "    \n",
    "committees_dic    \n",
    "    "
   ]
  },
  {
   "cell_type": "markdown",
   "id": "5d85936a",
   "metadata": {},
   "source": [
    "# Bellow are all the things I tried to do to get the links programatically\n",
    "# that didn't work."
   ]
  },
  {
   "cell_type": "code",
   "execution_count": null,
   "id": "6ebc9456",
   "metadata": {},
   "outputs": [],
   "source": [
    "# Use find with tag and id\n",
    "committees = soup.find(\"ul\", class_=\"plain margin7\")\n",
    "committees\n",
    "\n"
   ]
  },
  {
   "cell_type": "code",
   "execution_count": null,
   "id": "d4e37d11",
   "metadata": {},
   "outputs": [],
   "source": [
    "type(committees)"
   ]
  },
  {
   "cell_type": "code",
   "execution_count": null,
   "id": "40dc2e63",
   "metadata": {},
   "outputs": [],
   "source": [
    "# Get the names in committees\n",
    "\n",
    "\n",
    "committees.get_text()\n",
    "\n"
   ]
  },
  {
   "cell_type": "code",
   "execution_count": null,
   "id": "e14b5bd3",
   "metadata": {},
   "outputs": [],
   "source": [
    "# Turn it into a list. I GET A WEIRD \"n\" in this list\n",
    "\n",
    "committees_fl = []\n",
    "for committee in committees:\n",
    "    #print(committee.get_text())\n",
    "    committees_fl.append(committee.get_text())\n",
    "\n",
    "committees_fl"
   ]
  },
  {
   "cell_type": "code",
   "execution_count": null,
   "id": "7bf79b54",
   "metadata": {},
   "outputs": [],
   "source": [
    "# Get the links"
   ]
  },
  {
   "cell_type": "code",
   "execution_count": null,
   "id": "c2b6102b",
   "metadata": {},
   "outputs": [],
   "source": [
    "from requests import get"
   ]
  },
  {
   "cell_type": "code",
   "execution_count": null,
   "id": "dad79c9a",
   "metadata": {},
   "outputs": [],
   "source": [
    "committees"
   ]
  },
  {
   "cell_type": "code",
   "execution_count": null,
   "id": "f72aca1d",
   "metadata": {},
   "outputs": [],
   "source": [
    "#links_fl = []\n",
    "#for link in committees:\n",
    "    #print(link)\n",
    "    #print(get(\"a\"))\n",
    "    #print(\"href\")\n",
    "\n",
    "links_fl = []\n",
    "for link in committees:\n",
    "    links_fl.append(link.get_text(\"href\"))\n",
    "     #print(link.get_text(\"href\"))\n",
    "    \n",
    "\n",
    "links_fl\n",
    "\n"
   ]
  },
  {
   "cell_type": "code",
   "execution_count": null,
   "id": "5d46cfa3",
   "metadata": {},
   "outputs": [],
   "source": [
    "type(links_fl)"
   ]
  },
  {
   "cell_type": "code",
   "execution_count": null,
   "id": "a5118b1c",
   "metadata": {},
   "outputs": [],
   "source": [
    "links = [\"https://www.congress.gov/committee/house-agriculture/hsag00\", \"https://www.congress.gov/committee/house-appropriations/hsap00,\\\n",
    "# \", \"https://www.congress.gov/committee/house-armed-services/hsas00\", \"https://www.congress.gov/committee/house-budget/hsbu00\",\\\n",
    "        \"https://www.congress.gov/committee/house-education-and-labor/hsed00\", \"https://www.congress.gov/committee/house-energy-and-commerce/hsif00\",\\\n",
    "        \"https://www.congress.gov/committee/house-ethics/hsso00\",\"https://www.congress.gov/committee/house-financial-services/hsba00\",\\\n",
    "        \"https://www.congress.gov/committee/house-foreign-affairs/hsfa00\",\"https://www.congress.gov/committee/house-homeland-security/hshm00\",\n",
    "        \"https://www.congress.gov/committee/committee-on-house-administration/hsha00\",\"https://www.congress.gov/committee/house-judiciary/hsju00\",\n",
    "        \"https://www.congress.gov/committee/house-judiciary/hsju00\", \"https://www.congress.gov/committee/house-natural-resources/hsii00\",\n",
    "        \"https://www.congress.gov/committee/house-oversight-and-reform/hsgo00\", \"https://www.congress.gov/committee/house-rules/hsru00\",\n",
    "        \"https://www.congress.gov/committee/house-science-space-and-technology/hssy00\", \"https://www.congress.gov/committee/house-small-business/hssm00\",\\\n",
    "        \"https://www.congress.gov/committee/house-transportation-and-infrastructure/hspw00\", \"https://www.congress.gov/committee/house-veterans-affairs/hsvr00\",\\\n",
    "        \"https://www.congress.gov/committee/house-ways-and-means/hswm00\"]"
   ]
  },
  {
   "cell_type": "code",
   "execution_count": null,
   "id": "ec90fa21",
   "metadata": {},
   "outputs": [],
   "source": [
    "links"
   ]
  },
  {
   "cell_type": "code",
   "execution_count": null,
   "id": "b4697c43",
   "metadata": {},
   "outputs": [],
   "source": [
    "## Why do i keep seeing all the \"n\". How do I remove them? \n",
    "# How can I add the two lists so the links get one in front of the other?\n",
    "\n",
    "final = links_fl + links\n",
    "final"
   ]
  },
  {
   "cell_type": "code",
   "execution_count": null,
   "id": "bc9f6f7c",
   "metadata": {},
   "outputs": [],
   "source": [
    "final = links_fl + committees"
   ]
  },
  {
   "cell_type": "code",
   "execution_count": null,
   "id": "a5d50571",
   "metadata": {},
   "outputs": [],
   "source": []
  },
  {
   "cell_type": "code",
   "execution_count": null,
   "id": "7a0545b5",
   "metadata": {},
   "outputs": [],
   "source": [
    "# It didn't work side by side, but it was a table. I can use Pandas\n",
    "\n",
    "committees = pd. read_html(response.text)\n",
    "committees"
   ]
  },
  {
   "cell_type": "code",
   "execution_count": null,
   "id": "a30bb471",
   "metadata": {},
   "outputs": [],
   "source": [
    "type(committees)"
   ]
  },
  {
   "cell_type": "code",
   "execution_count": null,
   "id": "10a83413",
   "metadata": {},
   "outputs": [],
   "source": [
    "from requests import get\n"
   ]
  },
  {
   "cell_type": "code",
   "execution_count": null,
   "id": "758cf312",
   "metadata": {},
   "outputs": [],
   "source": [
    "# Now let's get the URLs"
   ]
  },
  {
   "cell_type": "code",
   "execution_count": null,
   "id": "8639bec5",
   "metadata": {},
   "outputs": [],
   "source": [
    "committees = soup.find(\"ul\", class_=\"plain margin7\")\n",
    "committees"
   ]
  },
  {
   "cell_type": "code",
   "execution_count": null,
   "id": "03b3367c",
   "metadata": {},
   "outputs": [],
   "source": [
    "committees_fl = []\n",
    "for committee in committees:\n",
    "    print(committee)\n",
    "    #committees_fl.append(committee.get_text())"
   ]
  },
  {
   "cell_type": "code",
   "execution_count": null,
   "id": "57443ed2",
   "metadata": {},
   "outputs": [],
   "source": [
    "type(committees_fl)"
   ]
  },
  {
   "cell_type": "code",
   "execution_count": null,
   "id": "202ae404",
   "metadata": {},
   "outputs": [],
   "source": [
    "new = committees_fl + committees"
   ]
  },
  {
   "cell_type": "code",
   "execution_count": null,
   "id": "f2e5f670",
   "metadata": {},
   "outputs": [],
   "source": [
    "soup.get_text"
   ]
  },
  {
   "cell_type": "code",
   "execution_count": null,
   "id": "c329a6f9",
   "metadata": {},
   "outputs": [],
   "source": [
    "soup.find(\"a\")"
   ]
  },
  {
   "cell_type": "code",
   "execution_count": null,
   "id": "c1fa42a1",
   "metadata": {},
   "outputs": [],
   "source": [
    "committees = soup.find(\"ul\", class_=\"plain margin7\")\n",
    "committees"
   ]
  },
  {
   "cell_type": "code",
   "execution_count": null,
   "id": "582396e9",
   "metadata": {},
   "outputs": [],
   "source": []
  },
  {
   "cell_type": "code",
   "execution_count": null,
   "id": "701e6088",
   "metadata": {
    "scrolled": true
   },
   "outputs": [],
   "source": [
    "\n",
    "\n",
    "links = soup.find_all(\"a\")\n",
    "links\n",
    "\n",
    "\n"
   ]
  },
  {
   "cell_type": "code",
   "execution_count": null,
   "id": "4a15b6ce",
   "metadata": {},
   "outputs": [],
   "source": [
    "links_fl = []\n",
    "for link in links:\n",
    "    print(link.get(\"href\"))"
   ]
  },
  {
   "cell_type": "code",
   "execution_count": null,
   "id": "e7047a8f",
   "metadata": {},
   "outputs": [],
   "source": [
    "\n",
    "\n",
    "links = get(url)\n",
    "soup = BeautifulSoup(links.text, 'lxml')\n",
    "table = soup.find_all('table')\n",
    "\n",
    "table\n"
   ]
  },
  {
   "cell_type": "code",
   "execution_count": null,
   "id": "87759fa1",
   "metadata": {},
   "outputs": [],
   "source": [
    "# Get \"a\" tag\n",
    "for tab in table:\n",
    "    get_a = tab.find_all(\"a\")\n",
    "    print(get_a)\n"
   ]
  },
  {
   "cell_type": "code",
   "execution_count": null,
   "id": "f1001abf",
   "metadata": {},
   "outputs": [],
   "source": [
    "# Get href inside the tag\n",
    "\n",
    "\n",
    "\n",
    "\n",
    "\n"
   ]
  },
  {
   "cell_type": "code",
   "execution_count": null,
   "id": "ec97339e",
   "metadata": {},
   "outputs": [],
   "source": [
    "\n",
    "\n",
    "committees_fl = []\n",
    "for committee in committees:\n",
    "    print(committee.get_text())\n",
    "    committees_fl.append(committee.get_text())\n",
    "\n"
   ]
  }
 ],
 "metadata": {
  "kernelspec": {
   "display_name": "Python 3 (ipykernel)",
   "language": "python",
   "name": "python3"
  },
  "language_info": {
   "codemirror_mode": {
    "name": "ipython",
    "version": 3
   },
   "file_extension": ".py",
   "mimetype": "text/x-python",
   "name": "python",
   "nbconvert_exporter": "python",
   "pygments_lexer": "ipython3",
   "version": "3.9.7"
  }
 },
 "nbformat": 4,
 "nbformat_minor": 5
}
