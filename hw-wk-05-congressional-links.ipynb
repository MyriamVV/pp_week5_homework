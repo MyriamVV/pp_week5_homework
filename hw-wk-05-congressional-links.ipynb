{
 "cells": [
  {
   "cell_type": "markdown",
   "id": "b44c1e9b",
   "metadata": {},
   "source": [
    "## Congressional Committees Links Scraper\n",
    "\n",
    "Write a scraper <a href=\"https://www.congress.gov/committees\">for this page</a> that gathers all the committee names and related links.\n",
    "\n",
    "In the near future, you will write code that follows those links and scrapes data from each link destination.\n",
    "\n"
   ]
  },
  {
   "cell_type": "code",
   "execution_count": 1,
   "id": "a35f1ef4",
   "metadata": {},
   "outputs": [],
   "source": [
    "from bs4 import BeautifulSoup\n",
    "import pandas as pd\n",
    "import requests \n"
   ]
  },
  {
   "cell_type": "code",
   "execution_count": 2,
   "id": "52fe1105",
   "metadata": {},
   "outputs": [
    {
     "data": {
      "text/plain": [
       "'https://www.congress.gov/committees'"
      ]
     },
     "execution_count": 2,
     "metadata": {},
     "output_type": "execute_result"
    }
   ],
   "source": [
    "url = \"https://www.congress.gov/committees\"\n",
    "url\n"
   ]
  },
  {
   "cell_type": "code",
   "execution_count": 3,
   "id": "f3e376f9",
   "metadata": {},
   "outputs": [
    {
     "data": {
      "text/plain": [
       "str"
      ]
     },
     "execution_count": 3,
     "metadata": {},
     "output_type": "execute_result"
    }
   ],
   "source": [
    "type(url)"
   ]
  },
  {
   "cell_type": "code",
   "execution_count": 4,
   "id": "6a000a19",
   "metadata": {},
   "outputs": [
    {
     "data": {
      "text/plain": [
       "200"
      ]
     },
     "execution_count": 4,
     "metadata": {},
     "output_type": "execute_result"
    }
   ],
   "source": [
    "response = requests.get(url)\n",
    "response.status_code"
   ]
  },
  {
   "cell_type": "code",
   "execution_count": 5,
   "id": "c752399d",
   "metadata": {},
   "outputs": [],
   "source": [
    "soup = BeautifulSoup(response.text,\"html.parser\")"
   ]
  },
  {
   "cell_type": "code",
   "execution_count": 6,
   "id": "5042f95b",
   "metadata": {},
   "outputs": [
    {
     "data": {
      "text/plain": [
       "bs4.BeautifulSoup"
      ]
     },
     "execution_count": 6,
     "metadata": {},
     "output_type": "execute_result"
    }
   ],
   "source": [
    "type(soup)"
   ]
  },
  {
   "cell_type": "code",
   "execution_count": 7,
   "id": "6ebc9456",
   "metadata": {},
   "outputs": [
    {
     "data": {
      "text/plain": [
       "<ul class=\"plain margin7\">\n",
       "<li><a href=\"/committee/house-agriculture/hsag00\">Agriculture</a></li>\n",
       "<li><a href=\"/committee/house-appropriations/hsap00\">Appropriations</a></li>\n",
       "<li><a href=\"/committee/house-armed-services/hsas00\">Armed Services</a></li>\n",
       "<li><a href=\"/committee/house-budget/hsbu00\">Budget</a></li>\n",
       "<li><a href=\"/committee/house-education-and-labor/hsed00\">Education and Labor</a></li>\n",
       "<li><a href=\"/committee/house-energy-and-commerce/hsif00\">Energy and Commerce</a></li>\n",
       "<li><a href=\"/committee/house-ethics/hsso00\">Ethics</a></li>\n",
       "<li><a href=\"/committee/house-financial-services/hsba00\">Financial Services</a></li>\n",
       "<li><a href=\"/committee/house-foreign-affairs/hsfa00\">Foreign Affairs</a></li>\n",
       "<li><a href=\"/committee/house-homeland-security/hshm00\">Homeland Security</a></li>\n",
       "<li><a href=\"/committee/committee-on-house-administration/hsha00\">House Administration</a></li>\n",
       "<li><a href=\"/committee/house-judiciary/hsju00\">Judiciary</a></li>\n",
       "<li><a href=\"/committee/house-natural-resources/hsii00\">Natural Resources</a></li>\n",
       "<li><a href=\"/committee/house-oversight-and-reform/hsgo00\">Oversight and Reform</a></li>\n",
       "<li><a href=\"/committee/house-rules/hsru00\">Rules</a></li>\n",
       "<li><a href=\"/committee/house-science-space-and-technology/hssy00\">Science, Space, and Technology</a></li>\n",
       "<li><a href=\"/committee/house-small-business/hssm00\">Small Business</a></li>\n",
       "<li><a href=\"/committee/house-transportation-and-infrastructure/hspw00\">Transportation and Infrastructure</a></li>\n",
       "<li><a href=\"/committee/house-veterans-affairs/hsvr00\">Veterans' Affairs</a></li>\n",
       "<li><a href=\"/committee/house-ways-and-means/hswm00\">Ways and Means</a></li>\n",
       "</ul>"
      ]
     },
     "execution_count": 7,
     "metadata": {},
     "output_type": "execute_result"
    }
   ],
   "source": [
    "# Use find with tag and id\n",
    "committees = soup.find(\"ul\", class_=\"plain margin7\")\n",
    "committees\n",
    "\n"
   ]
  },
  {
   "cell_type": "code",
   "execution_count": 8,
   "id": "d4e37d11",
   "metadata": {},
   "outputs": [
    {
     "data": {
      "text/plain": [
       "bs4.element.Tag"
      ]
     },
     "execution_count": 8,
     "metadata": {},
     "output_type": "execute_result"
    }
   ],
   "source": [
    "type(committees)"
   ]
  },
  {
   "cell_type": "code",
   "execution_count": 9,
   "id": "40dc2e63",
   "metadata": {},
   "outputs": [
    {
     "data": {
      "text/plain": [
       "\"\\nAgriculture\\nAppropriations\\nArmed Services\\nBudget\\nEducation and Labor\\nEnergy and Commerce\\nEthics\\nFinancial Services\\nForeign Affairs\\nHomeland Security\\nHouse Administration\\nJudiciary\\nNatural Resources\\nOversight and Reform\\nRules\\nScience, Space, and Technology\\nSmall Business\\nTransportation and Infrastructure\\nVeterans' Affairs\\nWays and Means\\n\""
      ]
     },
     "execution_count": 9,
     "metadata": {},
     "output_type": "execute_result"
    }
   ],
   "source": [
    "# Get the names in committees\n",
    "\n",
    "\n",
    "committees.get_text()\n",
    "\n"
   ]
  },
  {
   "cell_type": "code",
   "execution_count": 37,
   "id": "e14b5bd3",
   "metadata": {},
   "outputs": [
    {
     "data": {
      "text/plain": [
       "['\\n',\n",
       " 'Agriculture',\n",
       " '\\n',\n",
       " 'Appropriations',\n",
       " '\\n',\n",
       " 'Armed Services',\n",
       " '\\n',\n",
       " 'Budget',\n",
       " '\\n',\n",
       " 'Education and Labor',\n",
       " '\\n',\n",
       " 'Energy and Commerce',\n",
       " '\\n',\n",
       " 'Ethics',\n",
       " '\\n',\n",
       " 'Financial Services',\n",
       " '\\n',\n",
       " 'Foreign Affairs',\n",
       " '\\n',\n",
       " 'Homeland Security',\n",
       " '\\n',\n",
       " 'House Administration',\n",
       " '\\n',\n",
       " 'Judiciary',\n",
       " '\\n',\n",
       " 'Natural Resources',\n",
       " '\\n',\n",
       " 'Oversight and Reform',\n",
       " '\\n',\n",
       " 'Rules',\n",
       " '\\n',\n",
       " 'Science, Space, and Technology',\n",
       " '\\n',\n",
       " 'Small Business',\n",
       " '\\n',\n",
       " 'Transportation and Infrastructure',\n",
       " '\\n',\n",
       " \"Veterans' Affairs\",\n",
       " '\\n',\n",
       " 'Ways and Means',\n",
       " '\\n']"
      ]
     },
     "execution_count": 37,
     "metadata": {},
     "output_type": "execute_result"
    }
   ],
   "source": [
    "# Turn it into a list. I GET A WEIRD \"n\" in this list\n",
    "\n",
    "committees_fl = []\n",
    "for committee in committees:\n",
    "    #print(committee.get_text())\n",
    "    committees_fl.append(committee.get_text())\n",
    "\n",
    "committees_fl"
   ]
  },
  {
   "cell_type": "code",
   "execution_count": 11,
   "id": "7bf79b54",
   "metadata": {},
   "outputs": [],
   "source": [
    "# Get the links"
   ]
  },
  {
   "cell_type": "code",
   "execution_count": 12,
   "id": "c2b6102b",
   "metadata": {},
   "outputs": [],
   "source": [
    "from requests import get"
   ]
  },
  {
   "cell_type": "code",
   "execution_count": 13,
   "id": "dad79c9a",
   "metadata": {},
   "outputs": [
    {
     "data": {
      "text/plain": [
       "<ul class=\"plain margin7\">\n",
       "<li><a href=\"/committee/house-agriculture/hsag00\">Agriculture</a></li>\n",
       "<li><a href=\"/committee/house-appropriations/hsap00\">Appropriations</a></li>\n",
       "<li><a href=\"/committee/house-armed-services/hsas00\">Armed Services</a></li>\n",
       "<li><a href=\"/committee/house-budget/hsbu00\">Budget</a></li>\n",
       "<li><a href=\"/committee/house-education-and-labor/hsed00\">Education and Labor</a></li>\n",
       "<li><a href=\"/committee/house-energy-and-commerce/hsif00\">Energy and Commerce</a></li>\n",
       "<li><a href=\"/committee/house-ethics/hsso00\">Ethics</a></li>\n",
       "<li><a href=\"/committee/house-financial-services/hsba00\">Financial Services</a></li>\n",
       "<li><a href=\"/committee/house-foreign-affairs/hsfa00\">Foreign Affairs</a></li>\n",
       "<li><a href=\"/committee/house-homeland-security/hshm00\">Homeland Security</a></li>\n",
       "<li><a href=\"/committee/committee-on-house-administration/hsha00\">House Administration</a></li>\n",
       "<li><a href=\"/committee/house-judiciary/hsju00\">Judiciary</a></li>\n",
       "<li><a href=\"/committee/house-natural-resources/hsii00\">Natural Resources</a></li>\n",
       "<li><a href=\"/committee/house-oversight-and-reform/hsgo00\">Oversight and Reform</a></li>\n",
       "<li><a href=\"/committee/house-rules/hsru00\">Rules</a></li>\n",
       "<li><a href=\"/committee/house-science-space-and-technology/hssy00\">Science, Space, and Technology</a></li>\n",
       "<li><a href=\"/committee/house-small-business/hssm00\">Small Business</a></li>\n",
       "<li><a href=\"/committee/house-transportation-and-infrastructure/hspw00\">Transportation and Infrastructure</a></li>\n",
       "<li><a href=\"/committee/house-veterans-affairs/hsvr00\">Veterans' Affairs</a></li>\n",
       "<li><a href=\"/committee/house-ways-and-means/hswm00\">Ways and Means</a></li>\n",
       "</ul>"
      ]
     },
     "execution_count": 13,
     "metadata": {},
     "output_type": "execute_result"
    }
   ],
   "source": [
    "committees"
   ]
  },
  {
   "cell_type": "code",
   "execution_count": 33,
   "id": "f72aca1d",
   "metadata": {},
   "outputs": [
    {
     "data": {
      "text/plain": [
       "['\\n',\n",
       " 'Agriculture',\n",
       " '\\n',\n",
       " 'Appropriations',\n",
       " '\\n',\n",
       " 'Armed Services',\n",
       " '\\n',\n",
       " 'Budget',\n",
       " '\\n',\n",
       " 'Education and Labor',\n",
       " '\\n',\n",
       " 'Energy and Commerce',\n",
       " '\\n',\n",
       " 'Ethics',\n",
       " '\\n',\n",
       " 'Financial Services',\n",
       " '\\n',\n",
       " 'Foreign Affairs',\n",
       " '\\n',\n",
       " 'Homeland Security',\n",
       " '\\n',\n",
       " 'House Administration',\n",
       " '\\n',\n",
       " 'Judiciary',\n",
       " '\\n',\n",
       " 'Natural Resources',\n",
       " '\\n',\n",
       " 'Oversight and Reform',\n",
       " '\\n',\n",
       " 'Rules',\n",
       " '\\n',\n",
       " 'Science, Space, and Technology',\n",
       " '\\n',\n",
       " 'Small Business',\n",
       " '\\n',\n",
       " 'Transportation and Infrastructure',\n",
       " '\\n',\n",
       " \"Veterans' Affairs\",\n",
       " '\\n',\n",
       " 'Ways and Means',\n",
       " '\\n']"
      ]
     },
     "execution_count": 33,
     "metadata": {},
     "output_type": "execute_result"
    }
   ],
   "source": [
    "#links_fl = []\n",
    "#for link in committees:\n",
    "    #print(link)\n",
    "    #print(get(\"a\"))\n",
    "    #print(\"href\")\n",
    "\n",
    "links_fl = []\n",
    "for link in committees:\n",
    "    links_fl.append(link.get_text(\"href\"))\n",
    "     #print(link.get_text(\"href\"))\n",
    "    \n",
    "\n",
    "links_fl\n",
    "\n"
   ]
  },
  {
   "cell_type": "code",
   "execution_count": 24,
   "id": "5d46cfa3",
   "metadata": {},
   "outputs": [
    {
     "data": {
      "text/plain": [
       "list"
      ]
     },
     "execution_count": 24,
     "metadata": {},
     "output_type": "execute_result"
    }
   ],
   "source": [
    "type(links_fl)"
   ]
  },
  {
   "cell_type": "code",
   "execution_count": 25,
   "id": "a5118b1c",
   "metadata": {},
   "outputs": [],
   "source": [
    "links = [\"https://www.congress.gov/committee/house-agriculture/hsag00\", \"https://www.congress.gov/committee/house-appropriations/hsap00,\\\n",
    "# \", \"https://www.congress.gov/committee/house-armed-services/hsas00\", \"https://www.congress.gov/committee/house-budget/hsbu00\",\\\n",
    "        \"https://www.congress.gov/committee/house-education-and-labor/hsed00\", \"https://www.congress.gov/committee/house-energy-and-commerce/hsif00\",\\\n",
    "        \"https://www.congress.gov/committee/house-ethics/hsso00\",\"https://www.congress.gov/committee/house-financial-services/hsba00\",\\\n",
    "        \"https://www.congress.gov/committee/house-foreign-affairs/hsfa00\",\"https://www.congress.gov/committee/house-homeland-security/hshm00\",\n",
    "        \"https://www.congress.gov/committee/committee-on-house-administration/hsha00\",\"https://www.congress.gov/committee/house-judiciary/hsju00\",\n",
    "        \"https://www.congress.gov/committee/house-judiciary/hsju00\", \"https://www.congress.gov/committee/house-natural-resources/hsii00\",\n",
    "        \"https://www.congress.gov/committee/house-oversight-and-reform/hsgo00\", \"https://www.congress.gov/committee/house-rules/hsru00\",\n",
    "        \"https://www.congress.gov/committee/house-science-space-and-technology/hssy00\", \"https://www.congress.gov/committee/house-small-business/hssm00\",\\\n",
    "        \"https://www.congress.gov/committee/house-transportation-and-infrastructure/hspw00\", \"https://www.congress.gov/committee/house-veterans-affairs/hsvr00\",\\\n",
    "        \"https://www.congress.gov/committee/house-ways-and-means/hswm00\"]"
   ]
  },
  {
   "cell_type": "code",
   "execution_count": 26,
   "id": "ec90fa21",
   "metadata": {},
   "outputs": [
    {
     "data": {
      "text/plain": [
       "['https://www.congress.gov/committee/house-agriculture/hsag00',\n",
       " 'https://www.congress.gov/committee/house-appropriations/hsap00,# ',\n",
       " 'https://www.congress.gov/committee/house-armed-services/hsas00',\n",
       " 'https://www.congress.gov/committee/house-budget/hsbu00',\n",
       " 'https://www.congress.gov/committee/house-education-and-labor/hsed00',\n",
       " 'https://www.congress.gov/committee/house-energy-and-commerce/hsif00',\n",
       " 'https://www.congress.gov/committee/house-ethics/hsso00',\n",
       " 'https://www.congress.gov/committee/house-financial-services/hsba00',\n",
       " 'https://www.congress.gov/committee/house-foreign-affairs/hsfa00',\n",
       " 'https://www.congress.gov/committee/house-homeland-security/hshm00',\n",
       " 'https://www.congress.gov/committee/committee-on-house-administration/hsha00',\n",
       " 'https://www.congress.gov/committee/house-judiciary/hsju00',\n",
       " 'https://www.congress.gov/committee/house-judiciary/hsju00',\n",
       " 'https://www.congress.gov/committee/house-natural-resources/hsii00',\n",
       " 'https://www.congress.gov/committee/house-oversight-and-reform/hsgo00',\n",
       " 'https://www.congress.gov/committee/house-rules/hsru00',\n",
       " 'https://www.congress.gov/committee/house-science-space-and-technology/hssy00',\n",
       " 'https://www.congress.gov/committee/house-small-business/hssm00',\n",
       " 'https://www.congress.gov/committee/house-transportation-and-infrastructure/hspw00',\n",
       " 'https://www.congress.gov/committee/house-veterans-affairs/hsvr00',\n",
       " 'https://www.congress.gov/committee/house-ways-and-means/hswm00']"
      ]
     },
     "execution_count": 26,
     "metadata": {},
     "output_type": "execute_result"
    }
   ],
   "source": [
    "links"
   ]
  },
  {
   "cell_type": "code",
   "execution_count": 35,
   "id": "b4697c43",
   "metadata": {},
   "outputs": [
    {
     "data": {
      "text/plain": [
       "['\\n',\n",
       " 'Agriculture',\n",
       " '\\n',\n",
       " 'Appropriations',\n",
       " '\\n',\n",
       " 'Armed Services',\n",
       " '\\n',\n",
       " 'Budget',\n",
       " '\\n',\n",
       " 'Education and Labor',\n",
       " '\\n',\n",
       " 'Energy and Commerce',\n",
       " '\\n',\n",
       " 'Ethics',\n",
       " '\\n',\n",
       " 'Financial Services',\n",
       " '\\n',\n",
       " 'Foreign Affairs',\n",
       " '\\n',\n",
       " 'Homeland Security',\n",
       " '\\n',\n",
       " 'House Administration',\n",
       " '\\n',\n",
       " 'Judiciary',\n",
       " '\\n',\n",
       " 'Natural Resources',\n",
       " '\\n',\n",
       " 'Oversight and Reform',\n",
       " '\\n',\n",
       " 'Rules',\n",
       " '\\n',\n",
       " 'Science, Space, and Technology',\n",
       " '\\n',\n",
       " 'Small Business',\n",
       " '\\n',\n",
       " 'Transportation and Infrastructure',\n",
       " '\\n',\n",
       " \"Veterans' Affairs\",\n",
       " '\\n',\n",
       " 'Ways and Means',\n",
       " '\\n',\n",
       " 'https://www.congress.gov/committee/house-agriculture/hsag00',\n",
       " 'https://www.congress.gov/committee/house-appropriations/hsap00,# ',\n",
       " 'https://www.congress.gov/committee/house-armed-services/hsas00',\n",
       " 'https://www.congress.gov/committee/house-budget/hsbu00',\n",
       " 'https://www.congress.gov/committee/house-education-and-labor/hsed00',\n",
       " 'https://www.congress.gov/committee/house-energy-and-commerce/hsif00',\n",
       " 'https://www.congress.gov/committee/house-ethics/hsso00',\n",
       " 'https://www.congress.gov/committee/house-financial-services/hsba00',\n",
       " 'https://www.congress.gov/committee/house-foreign-affairs/hsfa00',\n",
       " 'https://www.congress.gov/committee/house-homeland-security/hshm00',\n",
       " 'https://www.congress.gov/committee/committee-on-house-administration/hsha00',\n",
       " 'https://www.congress.gov/committee/house-judiciary/hsju00',\n",
       " 'https://www.congress.gov/committee/house-judiciary/hsju00',\n",
       " 'https://www.congress.gov/committee/house-natural-resources/hsii00',\n",
       " 'https://www.congress.gov/committee/house-oversight-and-reform/hsgo00',\n",
       " 'https://www.congress.gov/committee/house-rules/hsru00',\n",
       " 'https://www.congress.gov/committee/house-science-space-and-technology/hssy00',\n",
       " 'https://www.congress.gov/committee/house-small-business/hssm00',\n",
       " 'https://www.congress.gov/committee/house-transportation-and-infrastructure/hspw00',\n",
       " 'https://www.congress.gov/committee/house-veterans-affairs/hsvr00',\n",
       " 'https://www.congress.gov/committee/house-ways-and-means/hswm00']"
      ]
     },
     "execution_count": 35,
     "metadata": {},
     "output_type": "execute_result"
    }
   ],
   "source": [
    "## Why do i keep seeing all the \"n\". How do I remove them? \n",
    "# How can I add the two lists so the links get one in front of the other?\n",
    "\n",
    "final = links_fl + links\n",
    "final"
   ]
  },
  {
   "cell_type": "markdown",
   "id": "5d85936a",
   "metadata": {},
   "source": [
    "# Bellow are all the things I tried to do to get the links programatically\n",
    "# that didn't work."
   ]
  },
  {
   "cell_type": "code",
   "execution_count": null,
   "id": "9e53bf83",
   "metadata": {},
   "outputs": [],
   "source": []
  },
  {
   "cell_type": "code",
   "execution_count": null,
   "id": "7618a77b",
   "metadata": {},
   "outputs": [],
   "source": []
  },
  {
   "cell_type": "code",
   "execution_count": null,
   "id": "91f64b2a",
   "metadata": {},
   "outputs": [],
   "source": []
  },
  {
   "cell_type": "code",
   "execution_count": null,
   "id": "dbf319bd",
   "metadata": {},
   "outputs": [],
   "source": []
  },
  {
   "cell_type": "code",
   "execution_count": 19,
   "id": "bc9f6f7c",
   "metadata": {},
   "outputs": [
    {
     "ename": "TypeError",
     "evalue": "can only concatenate list (not \"Tag\") to list",
     "output_type": "error",
     "traceback": [
      "\u001b[0;31m---------------------------------------------------------------------------\u001b[0m",
      "\u001b[0;31mTypeError\u001b[0m                                 Traceback (most recent call last)",
      "\u001b[0;32m/var/folders/51/zfcz7v952f74skxnnh3c0g8m0000gn/T/ipykernel_6670/1684778449.py\u001b[0m in \u001b[0;36m<module>\u001b[0;34m\u001b[0m\n\u001b[0;32m----> 1\u001b[0;31m \u001b[0mfinal\u001b[0m \u001b[0;34m=\u001b[0m \u001b[0mlinks_fl\u001b[0m \u001b[0;34m+\u001b[0m \u001b[0mcommittees\u001b[0m\u001b[0;34m\u001b[0m\u001b[0;34m\u001b[0m\u001b[0m\n\u001b[0m",
      "\u001b[0;31mTypeError\u001b[0m: can only concatenate list (not \"Tag\") to list"
     ]
    }
   ],
   "source": [
    "final = links_fl + committees"
   ]
  },
  {
   "cell_type": "code",
   "execution_count": null,
   "id": "a5d50571",
   "metadata": {},
   "outputs": [],
   "source": []
  },
  {
   "cell_type": "code",
   "execution_count": null,
   "id": "7a0545b5",
   "metadata": {},
   "outputs": [],
   "source": [
    "# It didn't work side by side, but it was a table. I can use Pandas\n",
    "\n",
    "committees = pd. read_html(response.text)\n",
    "committees"
   ]
  },
  {
   "cell_type": "code",
   "execution_count": null,
   "id": "a30bb471",
   "metadata": {},
   "outputs": [],
   "source": [
    "type(committees)"
   ]
  },
  {
   "cell_type": "code",
   "execution_count": null,
   "id": "10a83413",
   "metadata": {},
   "outputs": [],
   "source": [
    "from requests import get\n"
   ]
  },
  {
   "cell_type": "code",
   "execution_count": null,
   "id": "758cf312",
   "metadata": {},
   "outputs": [],
   "source": [
    "# Now let's get the URLs"
   ]
  },
  {
   "cell_type": "code",
   "execution_count": null,
   "id": "8639bec5",
   "metadata": {},
   "outputs": [],
   "source": [
    "committees = soup.find(\"ul\", class_=\"plain margin7\")\n",
    "committees"
   ]
  },
  {
   "cell_type": "code",
   "execution_count": null,
   "id": "03b3367c",
   "metadata": {},
   "outputs": [],
   "source": [
    "committees_fl = []\n",
    "for committee in committees:\n",
    "    print(committee)\n",
    "    #committees_fl.append(committee.get_text())"
   ]
  },
  {
   "cell_type": "code",
   "execution_count": null,
   "id": "57443ed2",
   "metadata": {},
   "outputs": [],
   "source": [
    "type(committees_fl)"
   ]
  },
  {
   "cell_type": "code",
   "execution_count": null,
   "id": "202ae404",
   "metadata": {},
   "outputs": [],
   "source": [
    "new = committees_fl + committees"
   ]
  },
  {
   "cell_type": "code",
   "execution_count": null,
   "id": "f2e5f670",
   "metadata": {},
   "outputs": [],
   "source": [
    "soup.get_text"
   ]
  },
  {
   "cell_type": "code",
   "execution_count": null,
   "id": "c329a6f9",
   "metadata": {},
   "outputs": [],
   "source": [
    "soup.find(\"a\")"
   ]
  },
  {
   "cell_type": "code",
   "execution_count": null,
   "id": "c1fa42a1",
   "metadata": {},
   "outputs": [],
   "source": [
    "committees = soup.find(\"ul\", class_=\"plain margin7\")\n",
    "committees"
   ]
  },
  {
   "cell_type": "code",
   "execution_count": null,
   "id": "582396e9",
   "metadata": {},
   "outputs": [],
   "source": []
  },
  {
   "cell_type": "code",
   "execution_count": null,
   "id": "701e6088",
   "metadata": {
    "scrolled": true
   },
   "outputs": [],
   "source": [
    "\n",
    "\n",
    "links = soup.find_all(\"a\")\n",
    "links\n",
    "\n",
    "\n"
   ]
  },
  {
   "cell_type": "code",
   "execution_count": null,
   "id": "4a15b6ce",
   "metadata": {},
   "outputs": [],
   "source": [
    "links_fl = []\n",
    "for link in links:\n",
    "    print(link.get(\"href\"))"
   ]
  },
  {
   "cell_type": "code",
   "execution_count": null,
   "id": "e7047a8f",
   "metadata": {},
   "outputs": [],
   "source": [
    "\n",
    "\n",
    "links = get(url)\n",
    "soup = BeautifulSoup(links.text, 'lxml')\n",
    "table = soup.find_all('table')\n",
    "\n",
    "table\n"
   ]
  },
  {
   "cell_type": "code",
   "execution_count": null,
   "id": "87759fa1",
   "metadata": {},
   "outputs": [],
   "source": [
    "# Get \"a\" tag\n",
    "for tab in table:\n",
    "    get_a = tab.find_all(\"a\")\n",
    "    print(get_a)\n"
   ]
  },
  {
   "cell_type": "code",
   "execution_count": null,
   "id": "f1001abf",
   "metadata": {},
   "outputs": [],
   "source": [
    "# Get href inside the tag\n",
    "\n",
    "\n",
    "\n",
    "\n",
    "\n"
   ]
  },
  {
   "cell_type": "code",
   "execution_count": null,
   "id": "ec97339e",
   "metadata": {},
   "outputs": [],
   "source": [
    "\n",
    "\n",
    "committees_fl = []\n",
    "for committee in committees:\n",
    "    print(committee.get_text())\n",
    "    committees_fl.append(committee.get_text())\n",
    "\n"
   ]
  }
 ],
 "metadata": {
  "kernelspec": {
   "display_name": "Python 3 (ipykernel)",
   "language": "python",
   "name": "python3"
  },
  "language_info": {
   "codemirror_mode": {
    "name": "ipython",
    "version": 3
   },
   "file_extension": ".py",
   "mimetype": "text/x-python",
   "name": "python",
   "nbconvert_exporter": "python",
   "pygments_lexer": "ipython3",
   "version": "3.9.7"
  }
 },
 "nbformat": 4,
 "nbformat_minor": 5
}
